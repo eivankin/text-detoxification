{
 "cells": [
  {
   "cell_type": "markdown",
   "id": "b2de1fdcba42c5a9",
   "metadata": {},
   "source": [
    "# Baseline #0: Identity"
   ]
  },
  {
   "cell_type": "code",
   "execution_count": 6,
   "id": "initial_id",
   "metadata": {},
   "outputs": [],
   "source": [
    "from src.util import seed_everything, update_avg, cleanup\n",
    "from src.config import SEED, INTERIM_DATA_DIR"
   ]
  },
  {
   "cell_type": "code",
   "execution_count": 7,
   "id": "fdb48e30a181325",
   "metadata": {},
   "outputs": [],
   "source": [
    "import os\n",
    "\n",
    "if not INTERIM_DATA_DIR.exists():\n",
    "    os.chdir(\"..\")"
   ]
  },
  {
   "cell_type": "code",
   "execution_count": 8,
   "id": "4dbc5bc459cf5aa0",
   "metadata": {},
   "outputs": [],
   "source": [
    "import logging\n",
    "\n",
    "logging.basicConfig(level=logging.ERROR)"
   ]
  },
  {
   "cell_type": "code",
   "execution_count": 9,
   "id": "b03e58d64803e42d",
   "metadata": {},
   "outputs": [],
   "source": [
    "seed_everything(SEED)"
   ]
  },
  {
   "cell_type": "code",
   "execution_count": 10,
   "id": "976f323b1dfd96ab",
   "metadata": {},
   "outputs": [],
   "source": [
    "import pandas as pd\n",
    "\n",
    "from src.data.dataset import create_loaders"
   ]
  },
  {
   "cell_type": "code",
   "execution_count": 8,
   "id": "2d42a77dd194f4ca",
   "metadata": {},
   "outputs": [],
   "source": [
    "BATCH_SIZE = 512"
   ]
  },
  {
   "cell_type": "code",
   "execution_count": 6,
   "id": "a41e7d0d6033b3a2",
   "metadata": {},
   "outputs": [],
   "source": [
    "train_loader, val_loader, test_loader = create_loaders(\n",
    "    pd.read_csv(INTERIM_DATA_DIR / \"swapped.csv\"), batch_size=BATCH_SIZE\n",
    ")"
   ]
  },
  {
   "cell_type": "code",
   "execution_count": 11,
   "id": "4b77c618841018d",
   "metadata": {},
   "outputs": [],
   "source": [
    "from src.models.identity import IdentityModel\n",
    "from src.metrics import calculate_all"
   ]
  },
  {
   "cell_type": "code",
   "execution_count": 8,
   "id": "4a7d81fc64f640a6",
   "metadata": {},
   "outputs": [],
   "source": [
    "model = IdentityModel()"
   ]
  },
  {
   "cell_type": "code",
   "execution_count": 11,
   "id": "3c2a1429ab929087",
   "metadata": {},
   "outputs": [
    {
     "name": "stderr",
     "output_type": "stream",
     "text": [
      "avg_non_tox=0.129 avg_bert=1.000 avg_bleu=0.173: 100%|██████████| 57/57 [07:57<00:00,  8.38s/it]\n"
     ]
    }
   ],
   "source": [
    "from tqdm import tqdm\n",
    "\n",
    "avg_non_tox = 0\n",
    "avg_bert = 0\n",
    "avg_bleu = 0\n",
    "for i, batch in (pbar := tqdm(enumerate(test_loader), total=len(test_loader))):\n",
    "    inputs, target = batch\n",
    "    train_pred = model.train(inputs, target)\n",
    "    non_tox, bert, bleu = calculate_all(inputs, train_pred, target)\n",
    "    avg_non_tox = update_avg(avg_non_tox, non_tox, i)\n",
    "    avg_bert = update_avg(avg_bert, bert, i)\n",
    "    avg_bleu = update_avg(avg_bleu, bleu, i)\n",
    "    pbar.set_description(f\"{avg_non_tox=:.3f} {avg_bert=:.3f} {avg_bleu=:.3f}\")"
   ]
  },
  {
   "cell_type": "markdown",
   "id": "daf5e0ddccf2ed65",
   "metadata": {},
   "source": [
    "Non-toxicity and BLEU scores are quite poor, but at least we achieved the best similarity with this model :-)"
   ]
  },
  {
   "cell_type": "code",
   "execution_count": 12,
   "id": "483d4d24ed8da610",
   "metadata": {},
   "outputs": [],
   "source": [
    "cleanup()"
   ]
  },
  {
   "cell_type": "markdown",
   "id": "1414de9a19484db7",
   "metadata": {},
   "source": [
    "# Baseline #1: Profanity filter"
   ]
  },
  {
   "cell_type": "code",
   "execution_count": 12,
   "id": "e836378950017ab4",
   "metadata": {},
   "outputs": [],
   "source": [
    "from src.models.profanity_filter import ProfanityFilter"
   ]
  },
  {
   "cell_type": "code",
   "execution_count": 13,
   "id": "65ee415263712476",
   "metadata": {},
   "outputs": [],
   "source": [
    "model = ProfanityFilter()\n",
    "model.load(INTERIM_DATA_DIR / \"bad_words.txt\")"
   ]
  },
  {
   "cell_type": "code",
   "execution_count": 14,
   "id": "f7288ceb9ab1b007",
   "metadata": {},
   "outputs": [],
   "source": [
    "BATCH_SIZE = 256"
   ]
  },
  {
   "cell_type": "code",
   "execution_count": 15,
   "id": "bffda08a07bece2",
   "metadata": {},
   "outputs": [],
   "source": [
    "train_loader, val_loader, test_loader = create_loaders(\n",
    "    pd.read_csv(INTERIM_DATA_DIR / \"swapped.csv\"), batch_size=BATCH_SIZE\n",
    ")"
   ]
  },
  {
   "cell_type": "code",
   "execution_count": 16,
   "id": "e8cd40382a3fe719",
   "metadata": {},
   "outputs": [
    {
     "name": "stderr",
     "output_type": "stream",
     "text": [
      "  0%|          | 0/113 [00:00<?, ?it/s]Some weights of the model checkpoint at SkolkovoInstitute/roberta_toxicity_classifier_v1 were not used when initializing RobertaForSequenceClassification: ['roberta.pooler.dense.bias', 'roberta.pooler.dense.weight']\n",
      "- This IS expected if you are initializing RobertaForSequenceClassification from the checkpoint of a model trained on another task or with another architecture (e.g. initializing a BertForSequenceClassification model from a BertForPreTraining model).\n",
      "- This IS NOT expected if you are initializing RobertaForSequenceClassification from the checkpoint of a model that you expect to be exactly identical (initializing a BertForSequenceClassification model from a BertForSequenceClassification model).\n",
      "avg_non_tox=0.507 avg_bert=0.456 avg_bleu=0.102: 100%|██████████| 113/113 [09:42<00:00,  5.16s/it]\n"
     ]
    }
   ],
   "source": [
    "from tqdm import tqdm\n",
    "\n",
    "avg_non_tox = 0\n",
    "avg_bert = 0\n",
    "avg_bleu = 0\n",
    "for i, batch in (pbar := tqdm(enumerate(test_loader), total=len(test_loader))):\n",
    "    inputs, target = batch\n",
    "    train_pred = model.train(inputs, target)\n",
    "    non_tox, bert, bleu = calculate_all(inputs, train_pred, target)\n",
    "    avg_non_tox = update_avg(avg_non_tox, non_tox, i)\n",
    "    avg_bert = update_avg(avg_bert, bert, i)\n",
    "    avg_bleu = update_avg(avg_bleu, bleu, i)\n",
    "    pbar.set_description(f\"{avg_non_tox=:.3f} {avg_bert=:.3f} {avg_bleu=:.3f}\")"
   ]
  }
 ],
 "metadata": {
  "kernelspec": {
   "display_name": "Python 3",
   "language": "python",
   "name": "python3"
  },
  "language_info": {
   "codemirror_mode": {
    "name": "ipython",
    "version": 2
   },
   "file_extension": ".py",
   "mimetype": "text/x-python",
   "name": "python",
   "nbconvert_exporter": "python",
   "pygments_lexer": "ipython2"
  }
 },
 "nbformat": 4,
 "nbformat_minor": 5
}
