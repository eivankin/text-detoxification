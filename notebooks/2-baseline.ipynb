{
 "cells": [
  {
   "cell_type": "code",
   "execution_count": 1,
   "id": "initial_id",
   "metadata": {},
   "outputs": [],
   "source": [
    "from src.util import seed_everything, update_avg, cleanup\n",
    "from src.config import SEED, INTERIM_DATA_DIR"
   ]
  },
  {
   "cell_type": "code",
   "execution_count": 2,
   "id": "fdb48e30a181325",
   "metadata": {},
   "outputs": [],
   "source": [
    "import os\n",
    "\n",
    "if not INTERIM_DATA_DIR.exists():\n",
    "    os.chdir(\"..\")"
   ]
  },
  {
   "cell_type": "code",
   "execution_count": 3,
   "id": "b03e58d64803e42d",
   "metadata": {},
   "outputs": [
    {
     "name": "stderr",
     "output_type": "stream",
     "text": [
      "2023-11-06 00:39:45.547349: I tensorflow/core/platform/cpu_feature_guard.cc:182] This TensorFlow binary is optimized to use available CPU instructions in performance-critical operations.\n",
      "To enable the following instructions: AVX2 FMA, in other operations, rebuild TensorFlow with the appropriate compiler flags.\n",
      "2023-11-06 00:39:46.151444: W tensorflow/compiler/tf2tensorrt/utils/py_utils.cc:38] TF-TRT Warning: Could not find TensorRT\n"
     ]
    }
   ],
   "source": [
    "seed_everything(SEED)"
   ]
  },
  {
   "cell_type": "code",
   "execution_count": 4,
   "id": "976f323b1dfd96ab",
   "metadata": {},
   "outputs": [],
   "source": [
    "import pandas as pd\n",
    "\n",
    "from src.data.dataset import create_loaders"
   ]
  },
  {
   "cell_type": "code",
   "execution_count": 5,
   "id": "2d42a77dd194f4ca",
   "metadata": {},
   "outputs": [],
   "source": [
    "BATCH_SIZE = 128"
   ]
  },
  {
   "cell_type": "code",
   "execution_count": 6,
   "id": "a41e7d0d6033b3a2",
   "metadata": {},
   "outputs": [],
   "source": [
    "train_loader, val_loader, test_loader = create_loaders(pd.read_csv(INTERIM_DATA_DIR / \"swapped.csv\"), batch_size=BATCH_SIZE)"
   ]
  },
  {
   "cell_type": "code",
   "execution_count": 7,
   "id": "4b77c618841018d",
   "metadata": {},
   "outputs": [],
   "source": [
    "from src.models.identity import IdentityModel\n",
    "from src.metrics import calculate_all "
   ]
  },
  {
   "cell_type": "code",
   "execution_count": 8,
   "id": "4a7d81fc64f640a6",
   "metadata": {},
   "outputs": [],
   "source": [
    "model = IdentityModel()"
   ]
  },
  {
   "cell_type": "code",
   "execution_count": 9,
   "id": "3c2a1429ab929087",
   "metadata": {},
   "outputs": [
    {
     "name": "stderr",
     "output_type": "stream",
     "text": [
      "  0%|          | 0/452 [00:00<?, ?it/s]"
     ]
    },
    {
     "data": {
      "application/vnd.jupyter.widget-view+json": {
       "model_id": "9e3e8d97167146cab56810e8c029e9cf",
       "version_major": 2,
       "version_minor": 0
      },
      "text/plain": [
       "Downloading (…)olve/main/vocab.json:   0%|          | 0.00/798k [00:00<?, ?B/s]"
      ]
     },
     "metadata": {},
     "output_type": "display_data"
    },
    {
     "data": {
      "application/vnd.jupyter.widget-view+json": {
       "model_id": "1ca6b406ee924ed2a06bbb08cc4955e2",
       "version_major": 2,
       "version_minor": 0
      },
      "text/plain": [
       "Downloading (…)olve/main/merges.txt:   0%|          | 0.00/456k [00:00<?, ?B/s]"
      ]
     },
     "metadata": {},
     "output_type": "display_data"
    },
    {
     "data": {
      "application/vnd.jupyter.widget-view+json": {
       "model_id": "0e8bbc8672f24c75b8bd03d7f70ed91d",
       "version_major": 2,
       "version_minor": 0
      },
      "text/plain": [
       "Downloading (…)cial_tokens_map.json:   0%|          | 0.00/239 [00:00<?, ?B/s]"
      ]
     },
     "metadata": {},
     "output_type": "display_data"
    },
    {
     "data": {
      "application/vnd.jupyter.widget-view+json": {
       "model_id": "31b552bfa5c54ddc95fb13eafd077812",
       "version_major": 2,
       "version_minor": 0
      },
      "text/plain": [
       "Downloading (…)okenizer_config.json:   0%|          | 0.00/25.0 [00:00<?, ?B/s]"
      ]
     },
     "metadata": {},
     "output_type": "display_data"
    },
    {
     "data": {
      "application/vnd.jupyter.widget-view+json": {
       "model_id": "173e14d4ef3c4276b57a183c51c6a4bd",
       "version_major": 2,
       "version_minor": 0
      },
      "text/plain": [
       "Downloading (…)lve/main/config.json:   0%|          | 0.00/530 [00:00<?, ?B/s]"
      ]
     },
     "metadata": {},
     "output_type": "display_data"
    },
    {
     "data": {
      "application/vnd.jupyter.widget-view+json": {
       "model_id": "a3d1979454aa456c9efa6245051f1cb6",
       "version_major": 2,
       "version_minor": 0
      },
      "text/plain": [
       "Downloading pytorch_model.bin:   0%|          | 0.00/501M [00:00<?, ?B/s]"
      ]
     },
     "metadata": {},
     "output_type": "display_data"
    },
    {
     "name": "stderr",
     "output_type": "stream",
     "text": [
      "Some weights of the model checkpoint at SkolkovoInstitute/roberta_toxicity_classifier_v1 were not used when initializing RobertaForSequenceClassification: ['roberta.pooler.dense.weight', 'roberta.pooler.dense.bias']\n",
      "- This IS expected if you are initializing RobertaForSequenceClassification from the checkpoint of a model trained on another task or with another architecture (e.g. initializing a BertForSequenceClassification model from a BertForPreTraining model).\n",
      "- This IS NOT expected if you are initializing RobertaForSequenceClassification from the checkpoint of a model that you expect to be exactly identical (initializing a BertForSequenceClassification model from a BertForSequenceClassification model).\n",
      "avg_non_tox=0.131 avg_bert=1.000 avg_bleu=0.173:  13%|█▎        | 58/452 [04:10<28:18,  4.31s/it] \n"
     ]
    },
    {
     "ename": "KeyboardInterrupt",
     "evalue": "",
     "output_type": "error",
     "traceback": [
      "\u001b[0;31m---------------------------------------------------------------------------\u001b[0m",
      "\u001b[0;31mKeyboardInterrupt\u001b[0m                         Traceback (most recent call last)",
      "Cell \u001b[0;32mIn[9], line 9\u001b[0m\n\u001b[1;32m      7\u001b[0m inputs, target \u001b[38;5;241m=\u001b[39m batch\n\u001b[1;32m      8\u001b[0m train_pred \u001b[38;5;241m=\u001b[39m model\u001b[38;5;241m.\u001b[39mtrain(inputs, target)\n\u001b[0;32m----> 9\u001b[0m non_tox, bert, bleu \u001b[38;5;241m=\u001b[39m \u001b[43mcalculate_all\u001b[49m\u001b[43m(\u001b[49m\u001b[43minputs\u001b[49m\u001b[43m,\u001b[49m\u001b[43m \u001b[49m\u001b[43mtrain_pred\u001b[49m\u001b[43m,\u001b[49m\u001b[43m \u001b[49m\u001b[43mtarget\u001b[49m\u001b[43m)\u001b[49m\n\u001b[1;32m     10\u001b[0m avg_non_tox \u001b[38;5;241m=\u001b[39m update_avg(avg_non_tox, non_tox, i)\n\u001b[1;32m     11\u001b[0m avg_bert \u001b[38;5;241m=\u001b[39m update_avg(avg_bert, bert, i)\n",
      "File \u001b[0;32m~/coding/inno_labs/pmldl-assignment-1/src/metrics.py:67\u001b[0m, in \u001b[0;36mcalculate_all\u001b[0;34m(source, predictions, target, batch_size)\u001b[0m\n\u001b[1;32m     64\u001b[0m \u001b[38;5;28;01mdef\u001b[39;00m \u001b[38;5;21mcalculate_all\u001b[39m(source: \u001b[38;5;28mlist\u001b[39m[\u001b[38;5;28mstr\u001b[39m], predictions: \u001b[38;5;28mlist\u001b[39m[\u001b[38;5;28mstr\u001b[39m], target: \u001b[38;5;28mlist\u001b[39m[\u001b[38;5;28mstr\u001b[39m],\n\u001b[1;32m     65\u001b[0m                   batch_size: \u001b[38;5;28mint\u001b[39m \u001b[38;5;241m=\u001b[39m \u001b[38;5;241m64\u001b[39m) \u001b[38;5;241m-\u001b[39m\u001b[38;5;241m>\u001b[39m \u001b[38;5;28mtuple\u001b[39m[\u001b[38;5;28mfloat\u001b[39m, \u001b[38;5;28mfloat\u001b[39m, \u001b[38;5;28mfloat\u001b[39m]:\n\u001b[1;32m     66\u001b[0m \u001b[38;5;250m    \u001b[39m\u001b[38;5;124;03m\"\"\"Computes non-toxicity score, BERT similarity and BLEU score\"\"\"\u001b[39;00m\n\u001b[0;32m---> 67\u001b[0m     non_tox_score \u001b[38;5;241m=\u001b[39m \u001b[43mclassify_predictions\u001b[49m\u001b[43m(\u001b[49m\u001b[43mpredictions\u001b[49m\u001b[43m,\u001b[49m\u001b[43m \u001b[49m\u001b[43mbatch_size\u001b[49m\u001b[38;5;241;43m=\u001b[39;49m\u001b[43mbatch_size\u001b[49m\u001b[43m)\u001b[49m\n\u001b[1;32m     68\u001b[0m     bert \u001b[38;5;241m=\u001b[39m mean_bert(predictions, source, batch_size\u001b[38;5;241m=\u001b[39mbatch_size)\n\u001b[1;32m     69\u001b[0m     bleu \u001b[38;5;241m=\u001b[39m mean_bleu(predictions, target)\n",
      "File \u001b[0;32m~/coding/inno_labs/pmldl-assignment-1/src/metrics.py:47\u001b[0m, in \u001b[0;36mclassify_predictions\u001b[0;34m(predictions, soft, model_name, batch_size, threshold)\u001b[0m\n\u001b[1;32m     45\u001b[0m         result \u001b[38;5;241m=\u001b[39m torch\u001b[38;5;241m.\u001b[39msoftmax(logits, \u001b[38;5;241m-\u001b[39m\u001b[38;5;241m1\u001b[39m)[:, \u001b[38;5;241m1\u001b[39m]\u001b[38;5;241m.\u001b[39mcpu()\u001b[38;5;241m.\u001b[39mnumpy()\n\u001b[1;32m     46\u001b[0m     \u001b[38;5;28;01melse\u001b[39;00m:\n\u001b[0;32m---> 47\u001b[0m         result \u001b[38;5;241m=\u001b[39m \u001b[43m(\u001b[49m\u001b[43mlogits\u001b[49m\u001b[43m[\u001b[49m\u001b[43m:\u001b[49m\u001b[43m,\u001b[49m\u001b[43m \u001b[49m\u001b[38;5;241;43m1\u001b[39;49m\u001b[43m]\u001b[49m\u001b[43m \u001b[49m\u001b[38;5;241;43m>\u001b[39;49m\u001b[43m \u001b[49m\u001b[43mthreshold\u001b[49m\u001b[43m)\u001b[49m\u001b[38;5;241;43m.\u001b[39;49m\u001b[43mcpu\u001b[49m\u001b[43m(\u001b[49m\u001b[43m)\u001b[49m\u001b[38;5;241m.\u001b[39mnumpy()\n\u001b[1;32m     48\u001b[0m     results\u001b[38;5;241m.\u001b[39mextend([\u001b[38;5;241m1\u001b[39m \u001b[38;5;241m-\u001b[39m item \u001b[38;5;28;01mfor\u001b[39;00m item \u001b[38;5;129;01min\u001b[39;00m result])\n\u001b[1;32m     49\u001b[0m \u001b[38;5;28;01mreturn\u001b[39;00m np\u001b[38;5;241m.\u001b[39mmean(results)\n",
      "\u001b[0;31mKeyboardInterrupt\u001b[0m: "
     ]
    }
   ],
   "source": [
    "from tqdm import tqdm\n",
    "\n",
    "avg_non_tox = 0\n",
    "avg_bert = 0\n",
    "avg_bleu = 0\n",
    "for i, batch in (pbar := tqdm(enumerate(test_loader), total=len(test_loader))):\n",
    "    inputs, target = batch\n",
    "    train_pred = model.train(inputs, target)\n",
    "    non_tox, bert, bleu = calculate_all(inputs, train_pred, target)\n",
    "    avg_non_tox = update_avg(avg_non_tox, non_tox, i)\n",
    "    avg_bert = update_avg(avg_bert, bert, i)\n",
    "    avg_bleu = update_avg(avg_bleu, bleu, i)\n",
    "    pbar.set_description(f\"{avg_non_tox=:.3f} {avg_bert=:.3f} {avg_bleu=:.3f}\")"
   ]
  },
  {
   "cell_type": "code",
   "execution_count": null,
   "id": "483d4d24ed8da610",
   "metadata": {},
   "outputs": [],
   "source": [
    "cleanup()"
   ]
  }
 ],
 "metadata": {
  "kernelspec": {
   "display_name": "Python 3",
   "language": "python",
   "name": "python3"
  },
  "language_info": {
   "codemirror_mode": {
    "name": "ipython",
    "version": 2
   },
   "file_extension": ".py",
   "mimetype": "text/x-python",
   "name": "python",
   "nbconvert_exporter": "python",
   "pygments_lexer": "ipython2"
  }
 },
 "nbformat": 4,
 "nbformat_minor": 5
}
